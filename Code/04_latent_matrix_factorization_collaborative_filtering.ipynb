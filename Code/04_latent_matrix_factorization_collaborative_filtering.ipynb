{
  "cells": [
    {
      "cell_type": "markdown",
      "id": "6d98c954",
      "metadata": {
        "id": "6d98c954"
      },
      "source": [
        "### Import necessary modules"
      ]
    },
    {
      "cell_type": "code",
      "execution_count": null,
      "id": "6de7358b",
      "metadata": {
        "id": "6de7358b"
      },
      "outputs": [],
      "source": [
        "#data analysis libraries \n",
        "import numpy as np\n",
        "import pandas as pd\n",
        "from sklearn.preprocessing import MultiLabelBinarizer\n",
        "\n",
        "#visualization libraries\n",
        "import matplotlib.pyplot as plt\n",
        "import seaborn as sns\n",
        "%matplotlib inline\n",
        "\n",
        "#ignore warnings\n",
        "import warnings\n",
        "warnings.filterwarnings('ignore')\n",
        "\n",
        "# Enable multiple output cells\n",
        "from IPython.core.interactiveshell import InteractiveShell\n",
        "InteractiveShell.ast_node_interactivity = \"all\""
      ]
    },
    {
      "cell_type": "code",
      "source": [
        "# !pip install nbdev\n",
        "!pip install surprise\n"
      ],
      "metadata": {
        "colab": {
          "base_uri": "https://localhost:8080/"
        },
        "id": "ROi2EIn_fIRT",
        "outputId": "52aec681-73de-42f2-8f36-a32902c0f489"
      },
      "id": "ROi2EIn_fIRT",
      "execution_count": null,
      "outputs": [
        {
          "output_type": "stream",
          "name": "stdout",
          "text": [
            "Looking in indexes: https://pypi.org/simple, https://us-python.pkg.dev/colab-wheels/public/simple/\n",
            "Collecting surprise\n",
            "  Downloading surprise-0.1-py2.py3-none-any.whl (1.8 kB)\n",
            "Collecting scikit-surprise\n",
            "  Downloading scikit-surprise-1.1.1.tar.gz (11.8 MB)\n",
            "\u001b[K     |████████████████████████████████| 11.8 MB 78 kB/s \n",
            "\u001b[?25hRequirement already satisfied: joblib>=0.11 in /usr/local/lib/python3.7/dist-packages (from scikit-surprise->surprise) (1.2.0)\n",
            "Requirement already satisfied: numpy>=1.11.2 in /usr/local/lib/python3.7/dist-packages (from scikit-surprise->surprise) (1.21.6)\n",
            "Requirement already satisfied: scipy>=1.0.0 in /usr/local/lib/python3.7/dist-packages (from scikit-surprise->surprise) (1.7.3)\n",
            "Requirement already satisfied: six>=1.10.0 in /usr/local/lib/python3.7/dist-packages (from scikit-surprise->surprise) (1.15.0)\n",
            "Building wheels for collected packages: scikit-surprise\n",
            "  Building wheel for scikit-surprise (setup.py) ... \u001b[?25l\u001b[?25hdone\n",
            "  Created wheel for scikit-surprise: filename=scikit_surprise-1.1.1-cp37-cp37m-linux_x86_64.whl size=1633964 sha256=85097e7b93c2debddebe58dbf1701b5861a2cbef542f869007ea6896fcb63f1a\n",
            "  Stored in directory: /root/.cache/pip/wheels/76/44/74/b498c42be47b2406bd27994e16c5188e337c657025ab400c1c\n",
            "Successfully built scikit-surprise\n",
            "Installing collected packages: scikit-surprise, surprise\n",
            "Successfully installed scikit-surprise-1.1.1 surprise-0.1\n"
          ]
        }
      ]
    },
    {
      "cell_type": "code",
      "source": [
        "from google.colab import drive\n",
        "drive.mount('/content/drive')"
      ],
      "metadata": {
        "colab": {
          "base_uri": "https://localhost:8080/"
        },
        "id": "r24fAoGBMDvK",
        "outputId": "388ca43c-15e1-4b3f-9daf-775971bac977"
      },
      "id": "r24fAoGBMDvK",
      "execution_count": null,
      "outputs": [
        {
          "output_type": "stream",
          "name": "stdout",
          "text": [
            "Drive already mounted at /content/drive; to attempt to forcibly remount, call drive.mount(\"/content/drive\", force_remount=True).\n"
          ]
        }
      ]
    },
    {
      "cell_type": "code",
      "source": [
        "from surprise import SVD\n",
        "from surprise import KNNBasic\n",
        "from surprise import Dataset\n",
        "from surprise.prediction_algorithms import SVDpp\n",
        "from surprise.model_selection import cross_validate\n",
        "from surprise.model_selection import GridSearchCV"
      ],
      "metadata": {
        "id": "ovFbCYkdiR46"
      },
      "id": "ovFbCYkdiR46",
      "execution_count": null,
      "outputs": []
    },
    {
      "cell_type": "markdown",
      "source": [
        "Training for MovieLens 100k without GridSearchCV\n"
      ],
      "metadata": {
        "id": "YB3Mo-aM31Sy"
      },
      "id": "YB3Mo-aM31Sy"
    },
    {
      "cell_type": "code",
      "source": [
        "# Load the movielens-100k dataset (download it if needed).\n",
        "data = Dataset.load_builtin('ml-100k')\n",
        "data1m = Dataset.load_builtin('ml-1m')"
      ],
      "metadata": {
        "colab": {
          "base_uri": "https://localhost:8080/"
        },
        "id": "lFDN2MlwiMuU",
        "outputId": "aa9805f3-44ea-41ed-f7a2-acf8e6e17b77"
      },
      "id": "lFDN2MlwiMuU",
      "execution_count": null,
      "outputs": [
        {
          "output_type": "stream",
          "name": "stdout",
          "text": [
            "Dataset ml-100k could not be found. Do you want to download it? [Y/n] y\n",
            "Trying to download dataset from http://files.grouplens.org/datasets/movielens/ml-100k.zip...\n",
            "Done! Dataset ml-100k has been saved to /root/.surprise_data/ml-100k\n",
            "Dataset ml-1m could not be found. Do you want to download it? [Y/n] y\n",
            "Trying to download dataset from http://files.grouplens.org/datasets/movielens/ml-1m.zip...\n",
            "Done! Dataset ml-1m has been saved to /root/.surprise_data/ml-1m\n"
          ]
        }
      ]
    },
    {
      "cell_type": "code",
      "source": [
        "algo = KNNBasic()\n",
        "# Run 5-fold cross-validation and print results.\n",
        "cross_validate(algo, data, measures=['RMSE', 'MAE'], cv=5, verbose=True)"
      ],
      "metadata": {
        "colab": {
          "base_uri": "https://localhost:8080/"
        },
        "id": "Ox6QZzp5sOdl",
        "outputId": "c1f3797e-aabc-4306-90b4-65562347cce9"
      },
      "id": "Ox6QZzp5sOdl",
      "execution_count": null,
      "outputs": [
        {
          "output_type": "stream",
          "name": "stdout",
          "text": [
            "Computing the msd similarity matrix...\n",
            "Done computing similarity matrix.\n",
            "Computing the msd similarity matrix...\n",
            "Done computing similarity matrix.\n",
            "Computing the msd similarity matrix...\n",
            "Done computing similarity matrix.\n",
            "Computing the msd similarity matrix...\n",
            "Done computing similarity matrix.\n",
            "Computing the msd similarity matrix...\n",
            "Done computing similarity matrix.\n",
            "Evaluating RMSE, MAE of algorithm KNNBasic on 5 split(s).\n",
            "\n",
            "                  Fold 1  Fold 2  Fold 3  Fold 4  Fold 5  Mean    Std     \n",
            "RMSE (testset)    0.9730  0.9749  0.9808  0.9772  0.9845  0.9781  0.0041  \n",
            "MAE (testset)     0.7689  0.7709  0.7741  0.7727  0.7777  0.7729  0.0030  \n",
            "Fit time          0.77    0.40    0.41    0.41    0.42    0.48    0.15    \n",
            "Test time         8.69    3.35    3.80    3.41    3.35    4.52    2.09    \n"
          ]
        },
        {
          "output_type": "execute_result",
          "data": {
            "text/plain": [
              "{'test_rmse': array([0.97296774, 0.97490551, 0.98081186, 0.97723668, 0.98446428]),\n",
              " 'test_mae': array([0.76886628, 0.77086429, 0.7741449 , 0.77273679, 0.77772801]),\n",
              " 'fit_time': (0.7744758129119873,\n",
              "  0.40251660346984863,\n",
              "  0.4146707057952881,\n",
              "  0.4098033905029297,\n",
              "  0.4204740524291992),\n",
              " 'test_time': (8.693105459213257,\n",
              "  3.3457939624786377,\n",
              "  3.801086664199829,\n",
              "  3.4051504135131836,\n",
              "  3.3483691215515137)}"
            ]
          },
          "metadata": {},
          "execution_count": 15
        }
      ]
    },
    {
      "cell_type": "code",
      "source": [
        "# Use the famous SVD algorithm.\n",
        "algo = SVD()\n",
        "\n",
        "# Run 5-fold cross-validation and print results.\n",
        "cross_validate(algo, data, measures=['RMSE', 'MAE'], cv=5, verbose=True)"
      ],
      "metadata": {
        "colab": {
          "base_uri": "https://localhost:8080/"
        },
        "id": "TkLcjpPGiZdF",
        "outputId": "8707fcab-63c3-47ae-b99c-ef4f65aa5b58"
      },
      "id": "TkLcjpPGiZdF",
      "execution_count": null,
      "outputs": [
        {
          "output_type": "stream",
          "name": "stdout",
          "text": [
            "Evaluating RMSE, MAE of algorithm SVD on 5 split(s).\n",
            "\n",
            "                  Fold 1  Fold 2  Fold 3  Fold 4  Fold 5  Mean    Std     \n",
            "RMSE (testset)    0.9342  0.9394  0.9398  0.9377  0.9328  0.9368  0.0028  \n",
            "MAE (testset)     0.7352  0.7415  0.7401  0.7377  0.7365  0.7382  0.0023  \n",
            "Fit time          5.01    5.07    5.05    5.07    5.08    5.06    0.02    \n",
            "Test time         0.35    0.14    0.33    0.14    0.30    0.25    0.09    \n"
          ]
        },
        {
          "output_type": "execute_result",
          "data": {
            "text/plain": [
              "{'test_rmse': array([0.9342134 , 0.93936436, 0.93984879, 0.93774154, 0.93275604]),\n",
              " 'test_mae': array([0.7352293 , 0.74154698, 0.74008843, 0.73773025, 0.73649319]),\n",
              " 'fit_time': (5.009776830673218,\n",
              "  5.0722057819366455,\n",
              "  5.053648948669434,\n",
              "  5.067363500595093,\n",
              "  5.078824758529663),\n",
              " 'test_time': (0.34981489181518555,\n",
              "  0.14349961280822754,\n",
              "  0.3311784267425537,\n",
              "  0.14365601539611816,\n",
              "  0.3019392490386963)}"
            ]
          },
          "metadata": {},
          "execution_count": 16
        }
      ]
    },
    {
      "cell_type": "code",
      "source": [
        "algo = SVDpp()\n",
        "# Run 5-fold cross-validation and print results.\n",
        "cross_validate(algo, data, measures=['RMSE', 'MAE'], cv=5, verbose=True)"
      ],
      "metadata": {
        "colab": {
          "base_uri": "https://localhost:8080/"
        },
        "id": "o3uy8QnFmht1",
        "outputId": "0b6c039b-1bd8-4fa2-b62b-19fd91c4cd26"
      },
      "id": "o3uy8QnFmht1",
      "execution_count": null,
      "outputs": [
        {
          "output_type": "stream",
          "name": "stdout",
          "text": [
            "Evaluating RMSE, MAE of algorithm SVDpp on 5 split(s).\n",
            "\n",
            "                  Fold 1  Fold 2  Fold 3  Fold 4  Fold 5  Mean    Std     \n",
            "RMSE (testset)    0.9212  0.9160  0.9217  0.9130  0.9238  0.9192  0.0040  \n",
            "MAE (testset)     0.7216  0.7165  0.7231  0.7180  0.7270  0.7212  0.0037  \n",
            "Fit time          171.76  169.78  168.45  171.39  171.43  170.56  1.26    \n",
            "Test time         4.33    4.45    4.25    4.34    4.19    4.31    0.09    \n"
          ]
        },
        {
          "output_type": "execute_result",
          "data": {
            "text/plain": [
              "{'test_rmse': array([0.92122918, 0.91596882, 0.92172017, 0.91304281, 0.92383574]),\n",
              " 'test_mae': array([0.72159458, 0.71649704, 0.72305325, 0.71796703, 0.72702083]),\n",
              " 'fit_time': (171.7621123790741,\n",
              "  169.78401494026184,\n",
              "  168.4496796131134,\n",
              "  171.38824892044067,\n",
              "  171.43391942977905),\n",
              " 'test_time': (4.329003572463989,\n",
              "  4.446147203445435,\n",
              "  4.2493860721588135,\n",
              "  4.339681386947632,\n",
              "  4.193050861358643)}"
            ]
          },
          "metadata": {},
          "execution_count": 17
        }
      ]
    },
    {
      "cell_type": "markdown",
      "source": [
        "Training for MovieLens 100k using GridSearchCV\n"
      ],
      "metadata": {
        "id": "PpSKqLyDGHKe"
      },
      "id": "PpSKqLyDGHKe"
    },
    {
      "cell_type": "code",
      "source": [
        "parameters = {\n",
        "              'reg_all' : [0.01, 0.02, 0.1],\n",
        "              'n_epochs' : [5, 10, 20],\n",
        "              'lr_all' : [0.001, 0.005, 0.01]\n",
        "              }"
      ],
      "metadata": {
        "id": "N0g1g_YCGG0r"
      },
      "id": "N0g1g_YCGG0r",
      "execution_count": null,
      "outputs": []
    },
    {
      "cell_type": "code",
      "source": [
        "# GridSearch for SVD\n",
        "gridsearchsvd = GridSearchCV(SVD, param_grid = parameters, measures=[\"rmse\", \"mae\"], n_jobs=-1, cv = 5)\n",
        "gridsearchsvd.fit(data)\n",
        "\n",
        "# find the best RMSE score\n",
        "print(gridsearchsvd.best_score[\"rmse\"])\n",
        "\n",
        "# find the combination of the parameters that gave the best RMSE score\n",
        "print(gridsearchsvd.best_params[\"rmse\"])"
      ],
      "metadata": {
        "colab": {
          "base_uri": "https://localhost:8080/"
        },
        "id": "GuvvxWNqGRBF",
        "outputId": "f9310ec1-9b36-4a9c-9ea2-8336bf61c71b"
      },
      "id": "GuvvxWNqGRBF",
      "execution_count": null,
      "outputs": [
        {
          "output_type": "stream",
          "name": "stdout",
          "text": [
            "0.9203064734583176\n",
            "{'reg_all': 0.1, 'n_epochs': 20, 'lr_all': 0.01}\n"
          ]
        }
      ]
    },
    {
      "cell_type": "markdown",
      "source": [
        "SVD using results from GridSearchCV"
      ],
      "metadata": {
        "id": "nh6EDDRa25VR"
      },
      "id": "nh6EDDRa25VR"
    },
    {
      "cell_type": "code",
      "source": [
        "gridcv_svd = SVD(n_factors = 20, n_epochs = 20, lr_all = 0.01, reg_all = 0.1)\n",
        "# Run 5-fold cross-validation and print results.\n",
        "cross_validate(gridcv_svd, data, measures=['RMSE', 'MAE'], cv=5, verbose=True)"
      ],
      "metadata": {
        "colab": {
          "base_uri": "https://localhost:8080/"
        },
        "id": "WAKDoif724vk",
        "outputId": "ddf75060-3214-4cc7-c674-fb8b78431aff"
      },
      "id": "WAKDoif724vk",
      "execution_count": null,
      "outputs": [
        {
          "output_type": "stream",
          "name": "stdout",
          "text": [
            "Evaluating RMSE, MAE of algorithm SVD on 5 split(s).\n",
            "\n",
            "                  Fold 1  Fold 2  Fold 3  Fold 4  Fold 5  Mean    Std     \n",
            "RMSE (testset)    0.9214  0.9283  0.9232  0.9340  0.9302  0.9274  0.0046  \n",
            "MAE (testset)     0.7292  0.7373  0.7304  0.7387  0.7381  0.7347  0.0041  \n",
            "Fit time          3.96    2.15    2.13    2.14    2.14    2.50    0.73    \n",
            "Test time         0.43    0.14    0.47    0.14    0.14    0.27    0.15    \n"
          ]
        },
        {
          "output_type": "execute_result",
          "data": {
            "text/plain": [
              "{'test_rmse': array([0.92139673, 0.92832248, 0.92324791, 0.93396513, 0.93018316]),\n",
              " 'test_mae': array([0.7291589 , 0.73729248, 0.73042493, 0.7387187 , 0.73809729]),\n",
              " 'fit_time': (3.9632928371429443,\n",
              "  2.1508028507232666,\n",
              "  2.129554033279419,\n",
              "  2.141529083251953,\n",
              "  2.1369144916534424),\n",
              " 'test_time': (0.42779994010925293,\n",
              "  0.1412498950958252,\n",
              "  0.4738650321960449,\n",
              "  0.1384444236755371,\n",
              "  0.14379096031188965)}"
            ]
          },
          "metadata": {},
          "execution_count": 26
        }
      ]
    },
    {
      "cell_type": "code",
      "source": [
        "gridcv_svd = SVD(n_factors = 40, n_epochs = 20, lr_all = 0.01, reg_all = 0.1)\n",
        "# Run 5-fold cross-validation and print results.\n",
        "cross_validate(gridcv_svd, data, measures=['RMSE', 'MAE'], cv=5, verbose=True)"
      ],
      "metadata": {
        "colab": {
          "base_uri": "https://localhost:8080/"
        },
        "id": "tv3DId4s3h2e",
        "outputId": "697f8b1d-091c-4094-bf8c-5b5c897d80b2"
      },
      "id": "tv3DId4s3h2e",
      "execution_count": null,
      "outputs": [
        {
          "output_type": "stream",
          "name": "stdout",
          "text": [
            "Evaluating RMSE, MAE of algorithm SVD on 5 split(s).\n",
            "\n",
            "                  Fold 1  Fold 2  Fold 3  Fold 4  Fold 5  Mean    Std     \n",
            "RMSE (testset)    0.9222  0.9238  0.9252  0.9198  0.9307  0.9243  0.0037  \n",
            "MAE (testset)     0.7309  0.7326  0.7326  0.7264  0.7358  0.7317  0.0031  \n",
            "Fit time          4.57    2.92    2.88    2.92    2.90    3.24    0.67    \n",
            "Test time         0.44    0.15    0.43    0.16    0.16    0.27    0.14    \n"
          ]
        },
        {
          "output_type": "execute_result",
          "data": {
            "text/plain": [
              "{'test_rmse': array([0.92217285, 0.92379251, 0.92522265, 0.91983192, 0.93072844]),\n",
              " 'test_mae': array([0.73093001, 0.73262869, 0.73263009, 0.72642678, 0.73583455]),\n",
              " 'fit_time': (4.574104309082031,\n",
              "  2.9195337295532227,\n",
              "  2.8832807540893555,\n",
              "  2.918766498565674,\n",
              "  2.9027323722839355),\n",
              " 'test_time': (0.4441816806793213,\n",
              "  0.1493082046508789,\n",
              "  0.4279181957244873,\n",
              "  0.1596372127532959,\n",
              "  0.16004323959350586)}"
            ]
          },
          "metadata": {},
          "execution_count": 27
        }
      ]
    },
    {
      "cell_type": "code",
      "source": [
        "gridcv_svd = SVD(n_factors = 60, n_epochs = 20, lr_all = 0.01, reg_all = 0.1)\n",
        "# Run 5-fold cross-validation and print results.\n",
        "cross_validate(gridcv_svd, data, measures=['RMSE', 'MAE'], cv=5, verbose=True)"
      ],
      "metadata": {
        "colab": {
          "base_uri": "https://localhost:8080/"
        },
        "id": "7G1AgbE03q8G",
        "outputId": "6f6995af-a841-4fc2-c366-a0771546f54b"
      },
      "id": "7G1AgbE03q8G",
      "execution_count": null,
      "outputs": [
        {
          "output_type": "stream",
          "name": "stdout",
          "text": [
            "Evaluating RMSE, MAE of algorithm SVD on 5 split(s).\n",
            "\n",
            "                  Fold 1  Fold 2  Fold 3  Fold 4  Fold 5  Mean    Std     \n",
            "RMSE (testset)    0.9278  0.9142  0.9238  0.9269  0.9181  0.9222  0.0053  \n",
            "MAE (testset)     0.7337  0.7241  0.7303  0.7357  0.7269  0.7302  0.0043  \n",
            "Fit time          4.61    3.67    3.58    3.62    3.61    3.82    0.40    \n",
            "Test time         0.42    0.14    0.14    0.42    0.15    0.26    0.14    \n"
          ]
        },
        {
          "output_type": "execute_result",
          "data": {
            "text/plain": [
              "{'test_rmse': array([0.92783723, 0.91420839, 0.92381099, 0.92693911, 0.91806034]),\n",
              " 'test_mae': array([0.73372246, 0.72410836, 0.73032853, 0.73570599, 0.72689516]),\n",
              " 'fit_time': (4.612025737762451,\n",
              "  3.669855833053589,\n",
              "  3.582059383392334,\n",
              "  3.6243481636047363,\n",
              "  3.608701467514038),\n",
              " 'test_time': (0.4245188236236572,\n",
              "  0.1427452564239502,\n",
              "  0.14174318313598633,\n",
              "  0.42192840576171875,\n",
              "  0.15123391151428223)}"
            ]
          },
          "metadata": {},
          "execution_count": 28
        }
      ]
    },
    {
      "cell_type": "code",
      "source": [
        "# GridSearch for SVDpp\n",
        "gridsearchsvdpp = GridSearchCV(SVDpp, param_grid = parameters, measures=[\"rmse\", \"mae\"], n_jobs=-1, cv = 5)\n",
        "gridsearchsvdpp.fit(data)\n",
        "\n",
        "# find the best RMSE score\n",
        "print(gridsearchsvdpp.best_score[\"rmse\"])\n",
        "\n",
        "# find the combination of the parameters that gave the best RMSE score\n",
        "print(gridsearchsvdpp.best_params[\"rmse\"])"
      ],
      "metadata": {
        "colab": {
          "base_uri": "https://localhost:8080/"
        },
        "id": "y9zE89GFGYf0",
        "outputId": "9c69123c-fdbb-4729-a6d4-7e68522b96eb"
      },
      "id": "y9zE89GFGYf0",
      "execution_count": null,
      "outputs": [
        {
          "output_type": "stream",
          "name": "stdout",
          "text": [
            "0.9177906621702467\n",
            "{'reg_all': 0.01, 'n_epochs': 20, 'lr_all': 0.005}\n"
          ]
        }
      ]
    },
    {
      "cell_type": "code",
      "source": [
        "gridcv_svdpp = SVDpp(n_factors = 40, n_epochs = 20, lr_all = 0.005, reg_all = 0.01)\n",
        "# Run 5-fold cross-validation and print results.\n",
        "cross_validate(gridcv_svdpp, data, measures=['RMSE', 'MAE'], cv=5, verbose=True)"
      ],
      "metadata": {
        "colab": {
          "base_uri": "https://localhost:8080/"
        },
        "id": "lhPY9Sr6HI_0",
        "outputId": "19570d8b-ad50-4831-94dc-8aefeaf29935"
      },
      "id": "lhPY9Sr6HI_0",
      "execution_count": null,
      "outputs": [
        {
          "output_type": "stream",
          "name": "stdout",
          "text": [
            "Evaluating RMSE, MAE of algorithm SVDpp on 5 split(s).\n",
            "\n",
            "                  Fold 1  Fold 2  Fold 3  Fold 4  Fold 5  Mean    Std     \n",
            "RMSE (testset)    0.9175  0.9189  0.9198  0.9157  0.9240  0.9192  0.0028  \n",
            "MAE (testset)     0.7198  0.7231  0.7228  0.7168  0.7256  0.7216  0.0030  \n",
            "Fit time          264.48  266.18  266.58  269.65  267.79  266.93  1.72    \n",
            "Test time         4.26    4.62    4.42    4.28    4.74    4.46    0.19    \n"
          ]
        },
        {
          "output_type": "execute_result",
          "data": {
            "text/plain": [
              "{'test_rmse': array([0.9175294 , 0.91888437, 0.91984909, 0.91569473, 0.92404739]),\n",
              " 'test_mae': array([0.71979523, 0.72314585, 0.72279115, 0.71680636, 0.72562366]),\n",
              " 'fit_time': (264.47685837745667,\n",
              "  266.1816439628601,\n",
              "  266.57680797576904,\n",
              "  269.6514229774475,\n",
              "  267.7856206893921),\n",
              " 'test_time': (4.256391525268555,\n",
              "  4.618686676025391,\n",
              "  4.420679807662964,\n",
              "  4.280362129211426,\n",
              "  4.740814208984375)}"
            ]
          },
          "metadata": {},
          "execution_count": 32
        }
      ]
    },
    {
      "cell_type": "markdown",
      "source": [
        "Training for MovieLens 1 million without GridSearchCV\n"
      ],
      "metadata": {
        "id": "LtqlRWlF5dTW"
      },
      "id": "LtqlRWlF5dTW"
    },
    {
      "cell_type": "code",
      "source": [
        "\n"
      ],
      "metadata": {
        "id": "xMSl_TS2tVgo"
      },
      "id": "xMSl_TS2tVgo",
      "execution_count": null,
      "outputs": []
    },
    {
      "cell_type": "code",
      "source": [
        "algo = KNNBasic()\n",
        "# Run 5-fold cross-validation and print results.\n",
        "cross_validate(algo, data1m, measures=['RMSE', 'MAE'], cv=5, verbose=True)"
      ],
      "metadata": {
        "id": "xi418LWetrAa"
      },
      "id": "xi418LWetrAa",
      "execution_count": null,
      "outputs": []
    },
    {
      "cell_type": "code",
      "source": [
        "# Use the famous SVD algorithm.\n",
        "algo = SVD()\n",
        "\n",
        "# Run 5-fold cross-validation and print results.\n",
        "cross_validate(algo, data1m, measures=['RMSE', 'MAE'], cv=5, verbose=True)"
      ],
      "metadata": {
        "colab": {
          "base_uri": "https://localhost:8080/"
        },
        "id": "VdTYj8Hhtg1W",
        "outputId": "1662874c-dde7-4e7f-d64a-85858ed6023b"
      },
      "id": "VdTYj8Hhtg1W",
      "execution_count": null,
      "outputs": [
        {
          "output_type": "stream",
          "name": "stdout",
          "text": [
            "Evaluating RMSE, MAE of algorithm SVD on 5 split(s).\n",
            "\n",
            "                  Fold 1  Fold 2  Fold 3  Fold 4  Fold 5  Mean    Std     \n",
            "RMSE (testset)    0.8735  0.8754  0.8748  0.8713  0.8751  0.8740  0.0015  \n",
            "MAE (testset)     0.6857  0.6873  0.6869  0.6842  0.6869  0.6862  0.0011  \n",
            "Fit time          53.08   54.65   55.58   53.43   53.85   54.12   0.90    \n",
            "Test time         3.16    2.72    2.69    3.04    2.72    2.87    0.19    \n"
          ]
        },
        {
          "output_type": "execute_result",
          "data": {
            "text/plain": [
              "{'test_rmse': array([0.87345189, 0.87541438, 0.87479148, 0.87133063, 0.87505321]),\n",
              " 'test_mae': array([0.68574677, 0.68734673, 0.68688182, 0.68423572, 0.68688216]),\n",
              " 'fit_time': (53.08330965042114,\n",
              "  54.6463418006897,\n",
              "  55.57639789581299,\n",
              "  53.427642822265625,\n",
              "  53.84585475921631),\n",
              " 'test_time': (3.1623547077178955,\n",
              "  2.7241508960723877,\n",
              "  2.6944141387939453,\n",
              "  3.0378758907318115,\n",
              "  2.7212250232696533)}"
            ]
          },
          "metadata": {},
          "execution_count": 9
        }
      ]
    },
    {
      "cell_type": "code",
      "source": [
        "algo = SVDpp()\n",
        "# Run 5-fold cross-validation and print results.\n",
        "cross_validate(algo, data1m, measures=['RMSE', 'MAE'], cv=5, verbose=True)"
      ],
      "metadata": {
        "colab": {
          "base_uri": "https://localhost:8080/"
        },
        "id": "q_OmE96RtnQn",
        "outputId": "823eac4b-9d73-4fcc-a49e-a9ac38eb8e3b"
      },
      "id": "q_OmE96RtnQn",
      "execution_count": null,
      "outputs": [
        {
          "output_type": "stream",
          "name": "stdout",
          "text": [
            "Evaluating RMSE, MAE of algorithm SVDpp on 5 split(s).\n",
            "\n",
            "                  Fold 1  Fold 2  Fold 3  Fold 4  Fold 5  Mean    Std     \n",
            "RMSE (testset)    0.8622  0.8623  0.8610  0.8625  0.8612  0.8619  0.0006  \n",
            "MAE (testset)     0.6720  0.6722  0.6710  0.6731  0.6718  0.6720  0.0007  \n",
            "Fit time          3246.07 3237.89 3226.83 3317.77 3263.30 3258.37 31.99   \n",
            "Test time         75.37   75.32   76.02   75.48   75.93   75.62   0.29    \n"
          ]
        },
        {
          "output_type": "execute_result",
          "data": {
            "text/plain": [
              "{'test_rmse': array([0.86223019, 0.86232628, 0.86102029, 0.86251482, 0.86124845]),\n",
              " 'test_mae': array([0.67195885, 0.6722112 , 0.67100738, 0.67312956, 0.67175486]),\n",
              " 'fit_time': (3246.06738448143,\n",
              "  3237.8896565437317,\n",
              "  3226.8288815021515,\n",
              "  3317.769622564316,\n",
              "  3263.296672821045),\n",
              " 'test_time': (75.36928462982178,\n",
              "  75.31538462638855,\n",
              "  76.02477669715881,\n",
              "  75.48490452766418,\n",
              "  75.92955708503723)}"
            ]
          },
          "metadata": {},
          "execution_count": 8
        }
      ]
    },
    {
      "cell_type": "code",
      "source": [
        "# GridSearch for SVD\n",
        "gridsearchsvdpp = GridSearchCV(SVDpp, param_grid = parameters, measures=[\"rmse\", \"mae\"], n_jobs=-1, cv = 5)\n",
        "gridsearchsvdpp.fit(data1m)\n",
        "\n",
        "# find the best RMSE score\n",
        "print(gridsearchsvdpp.best_score[\"rmse\"])\n",
        "\n",
        "# find the combination of the parameters that gave the best RMSE score\n",
        "print(gridsearchsvdpp.best_params[\"rmse\"])"
      ],
      "metadata": {
        "id": "-ssOyKK5wbYG"
      },
      "id": "-ssOyKK5wbYG",
      "execution_count": null,
      "outputs": []
    }
  ],
  "metadata": {
    "kernelspec": {
      "display_name": "Python 3 (ipykernel)",
      "language": "python",
      "name": "python3"
    },
    "language_info": {
      "codemirror_mode": {
        "name": "ipython",
        "version": 3
      },
      "file_extension": ".py",
      "mimetype": "text/x-python",
      "name": "python",
      "nbconvert_exporter": "python",
      "pygments_lexer": "ipython3",
      "version": "3.9.13"
    },
    "colab": {
      "provenance": []
    },
    "accelerator": "TPU",
    "gpuClass": "standard"
  },
  "nbformat": 4,
  "nbformat_minor": 5
}